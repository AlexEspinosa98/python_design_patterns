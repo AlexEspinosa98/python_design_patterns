{
 "cells": [
  {
   "cell_type": "markdown",
   "id": "b374b0cf",
   "metadata": {},
   "source": [
    "# LSP – Liskov Substitution Principle\n",
    "\"Los objetos de una subclase deben poder reemplazar a los de la superclase sin alterar el comportamiento esperado.\"\n",
    "\n",
    "### ¿Qué significa?\n",
    "Si tu código espera una instancia de la clase base, debería funcionar igual con cualquier subclase.\n",
    "\n",
    "### ¿Por qué es importante?\n",
    "Garantiza la compatibilidad.\n",
    "\n",
    "Evita errores de comportamiento."
   ]
  },
  {
   "cell_type": "code",
   "execution_count": 3,
   "id": "4c8b3e9e",
   "metadata": {},
   "outputs": [
    {
     "name": "stdout",
     "output_type": "stream",
     "text": [
      "Flying!\n",
      "Ostrich can't fly!\n"
     ]
    }
   ],
   "source": [
    "class Bird:\n",
    "    def fly(self):\n",
    "        print(\"Flying!\")\n",
    "\n",
    "class Duck(Bird):\n",
    "    def quack(self):\n",
    "        print(\"Quack!\")\n",
    "\n",
    "class Ostrich(Bird):\n",
    "    def fly(self):\n",
    "        raise NotImplementedError(\"Ostrich can't fly!\")\n",
    "\n",
    "# Violación de LSP: Ostrich rompe la expectativa\n",
    "def let_bird_fly(bird: Bird):\n",
    "    bird.fly()\n",
    "\n",
    "duck = Duck()\n",
    "let_bird_fly(duck)  # OK\n",
    "\n",
    "ostrich = Ostrich()\n",
    "try:\n",
    "    let_bird_fly(ostrich)  # ERROR: rompe la expectativa\n",
    "except NotImplementedError as e:\n",
    "    print(e)\n",
    "\n",
    "# Solución: separar interfaces\n",
    "\n"
   ]
  },
  {
   "cell_type": "code",
   "execution_count": 4,
   "id": "e9eef0bd",
   "metadata": {},
   "outputs": [
    {
     "name": "stdout",
     "output_type": "stream",
     "text": [
      "Flying!\n",
      "Walking!\n"
     ]
    }
   ],
   "source": [
    "from abc import ABC, abstractmethod\n",
    "\n",
    "class Bird(ABC):\n",
    "    @abstractmethod\n",
    "    def move(self):\n",
    "        pass\n",
    "\n",
    "class FlyingBird(Bird):\n",
    "    def move(self):\n",
    "        print(\"Flying!\")\n",
    "\n",
    "class NonFlyingBird(Bird):\n",
    "    def move(self):\n",
    "        print(\"Walking!\")\n",
    "\n",
    "# Ahora todo es consistente\n",
    "def move_bird(bird: Bird):\n",
    "    bird.move()\n",
    "\n",
    "move_bird(FlyingBird())      # Flying!\n",
    "move_bird(NonFlyingBird())   # Walking!"
   ]
  },
  {
   "cell_type": "code",
   "execution_count": null,
   "id": "0dc68b10",
   "metadata": {},
   "outputs": [],
   "source": []
  }
 ],
 "metadata": {
  "kernelspec": {
   "display_name": "venv",
   "language": "python",
   "name": "python3"
  },
  "language_info": {
   "codemirror_mode": {
    "name": "ipython",
    "version": 3
   },
   "file_extension": ".py",
   "mimetype": "text/x-python",
   "name": "python",
   "nbconvert_exporter": "python",
   "pygments_lexer": "ipython3",
   "version": "3.12.0"
  }
 },
 "nbformat": 4,
 "nbformat_minor": 5
}
