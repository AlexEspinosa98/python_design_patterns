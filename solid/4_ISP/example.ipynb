{
 "cells": [
  {
   "cell_type": "markdown",
   "id": "3db24784",
   "metadata": {},
   "source": [
    "# ISP – Interface Segregation Principle\n",
    "\"Ningún cliente debe depender de métodos que no usa.\"\n",
    "\n",
    "El Principio de Segregación de Interfaz establece que los clientes no deberían ser forzados a depender de métodos que no utilizan y, por tanto, sugiere la creación de interfaces o clases específicas para dichos clientes\n",
    "\n",
    "## ¿Qué significa?\n",
    "No fuerces a las clases a implementar interfaces que contienen métodos irrelevantes para ellas.\n",
    "\n",
    "## ¿Por qué es importante?\n",
    "Reduce la complejidad.\n",
    "\n",
    "Hace más claras las responsabilidades."
   ]
  },
  {
   "cell_type": "code",
   "execution_count": 1,
   "id": "10f56d03",
   "metadata": {},
   "outputs": [],
   "source": [
    "from abc import ABC, abstractmethod\n",
    "\n",
    "class Worker(ABC):\n",
    "    @abstractmethod\n",
    "    def work(self) -> None:\n",
    "        pass\n",
    "    \n",
    "    @abstractmethod\n",
    "    def eat(self) -> None:\n",
    "        pass\n",
    "\n",
    "class Human(Worker):\n",
    "    def work(self) -> None:\n",
    "        print(\"El humano está trabajando\")\n",
    "    \n",
    "    def eat(self) -> None:\n",
    "        print(\"El humano está comiendo\")\n",
    "\n",
    "class Robot(Worker):\n",
    "    def work(self) -> None:\n",
    "        print(\"El robot está trabajando\")\n",
    "    \n",
    "    def eat(self) -> None:\n",
    "        # Los robots no comen, pero están obligados a implementar este método\n",
    "        pass\n",
    "\n",
    "# robot se ve obligado a implementar algo que no usa"
   ]
  },
  {
   "cell_type": "code",
   "execution_count": 2,
   "id": "4de38756",
   "metadata": {},
   "outputs": [],
   "source": [
    "# manera correcta de aplicar ISP\n",
    "from abc import ABC, abstractmethod\n",
    "\n",
    "class Workable(ABC):\n",
    "    @abstractmethod\n",
    "    def work(self) -> None:\n",
    "        pass\n",
    "\n",
    "class Eatable(ABC):\n",
    "    @abstractmethod\n",
    "    def eat(self) -> None:\n",
    "        pass\n",
    "\n",
    "class Human(Workable, Eatable):\n",
    "    def work(self) -> None:\n",
    "        print(\"El humano está trabajando\")\n",
    "    \n",
    "    def eat(self) -> None:\n",
    "        print(\"El humano está comiendo\")\n",
    "\n",
    "class Robot(Workable):\n",
    "    def work(self) -> None:\n",
    "        print(\"El robot está trabajando\")"
   ]
  },
  {
   "cell_type": "code",
   "execution_count": null,
   "id": "828658b5",
   "metadata": {},
   "outputs": [],
   "source": []
  }
 ],
 "metadata": {
  "kernelspec": {
   "display_name": "venv",
   "language": "python",
   "name": "python3"
  },
  "language_info": {
   "codemirror_mode": {
    "name": "ipython",
    "version": 3
   },
   "file_extension": ".py",
   "mimetype": "text/x-python",
   "name": "python",
   "nbconvert_exporter": "python",
   "pygments_lexer": "ipython3",
   "version": "3.12.0"
  }
 },
 "nbformat": 4,
 "nbformat_minor": 5
}
