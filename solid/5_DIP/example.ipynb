{
 "cells": [
  {
   "cell_type": "markdown",
   "id": "684f567a",
   "metadata": {},
   "source": [
    "# DIP – Dependency Inversion Principle\n",
    "\"Las dependencias deben estar dirigidas hacia abstracciones, no hacia implementaciones.\"\n",
    "\n",
    "Este principio nos dice que debemos reducir las dependencias entre los módulos, o al menos controlar esas dependencias de manera que los módulos de alto nivel no dependan de los detalles de implementación de los módulos de bajo nivel.\n",
    "\n",
    "✅ ¿Qué significa?\n",
    "Las clases de alto nivel no deben depender directamente de clases de bajo nivel, sino de interfaces o abstracciones.\n",
    "\n",
    "✅ ¿Por qué es importante?\n",
    "Permite cambiar implementaciones fácilmente.\n",
    "\n",
    "Facilita pruebas unitarias."
   ]
  },
  {
   "cell_type": "code",
   "execution_count": 1,
   "id": "80e5b573",
   "metadata": {},
   "outputs": [],
   "source": [
    "# mal ejemplo\n",
    "class MySQLDatabase:\n",
    "    def connect(self) -> None:\n",
    "        # Conectar a MySQL\n",
    "        pass\n",
    "    \n",
    "    def query(self, sql: str) -> list:\n",
    "        # Ejecutar consulta en MySQL\n",
    "        return []\n",
    "\n",
    "class UserRepository:\n",
    "    def __init__(self):\n",
    "        self.database = MySQLDatabase()  # Dependencia directa\n",
    "    \n",
    "    def get_users(self) -> list:\n",
    "        return self.database.query(\"SELECT * FROM users\")"
   ]
  },
  {
   "cell_type": "code",
   "execution_count": 3,
   "id": "77ce8ce0",
   "metadata": {},
   "outputs": [],
   "source": [
    "# uso correcto \n",
    "\n",
    "from abc import ABC, abstractmethod\n",
    "\n",
    "class Database(ABC):\n",
    "    @abstractmethod\n",
    "    def connect(self) -> None:\n",
    "        pass\n",
    "    \n",
    "    @abstractmethod\n",
    "    def query(self, sql: str) -> list:\n",
    "        pass\n",
    "\n",
    "class MySQLDatabase(Database):\n",
    "    def connect(self) -> None:\n",
    "        # Conectar a MySQL\n",
    "        pass\n",
    "    \n",
    "    def query(self, sql: str) -> list:\n",
    "        # Ejecutar consulta en MySQL\n",
    "        return []\n",
    "\n",
    "class PostgreSQLDatabase(Database):\n",
    "    def connect(self) -> None:\n",
    "        # Conectar a PostgreSQL\n",
    "        pass\n",
    "    \n",
    "    def query(self, sql: str) -> list:\n",
    "        # Ejecutar consulta en PostgreSQL\n",
    "        return []\n",
    "\n",
    "class UserRepository:\n",
    "    def __init__(self, database: Database):\n",
    "        self.database = database  # Dependencia de abstracción\n",
    "    \n",
    "    def get_users(self) -> list:\n",
    "        return self.database.query(\"SELECT * FROM users\")"
   ]
  },
  {
   "cell_type": "markdown",
   "id": "b6dd81ec",
   "metadata": {},
   "source": [
    "## Ahora,\n",
    "UserRepository\n",
    "depende de la abstracción\n",
    "Database\n",
    "y no de una implementación concreta. Podemos cambiar fácilmente la base de datos sin modificar\n",
    "UserRepository\n",
    "\n",
    "### Usar MySQL\n",
    "mysql_db = MySQLDatabase()\n",
    "user_repo = UserRepository(mysql_db)\n",
    "\n",
    "### Cambiar a PostgreSQL\n",
    "postgres_db = PostgreSQLDatabase()\n",
    "user_repo = UserRepository(postgres_db)\n",
    "Esto es lo que se conoce como \"Inyección de Dependencias\", un patrón de diseño que implementa el principio de inversión de dependencias."
   ]
  },
  {
   "cell_type": "code",
   "execution_count": null,
   "id": "57b5aff2",
   "metadata": {},
   "outputs": [],
   "source": []
  }
 ],
 "metadata": {
  "kernelspec": {
   "display_name": "venv",
   "language": "python",
   "name": "python3"
  },
  "language_info": {
   "codemirror_mode": {
    "name": "ipython",
    "version": 3
   },
   "file_extension": ".py",
   "mimetype": "text/x-python",
   "name": "python",
   "nbconvert_exporter": "python",
   "pygments_lexer": "ipython3",
   "version": "3.12.0"
  }
 },
 "nbformat": 4,
 "nbformat_minor": 5
}
