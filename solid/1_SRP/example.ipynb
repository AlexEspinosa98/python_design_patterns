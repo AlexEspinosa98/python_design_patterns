{
 "cells": [
  {
   "cell_type": "markdown",
   "id": "c3c8a0ed",
   "metadata": {},
   "source": [
    "## SRP – Single Responsibility Principle\n",
    "\"Una clase debe tener una única razón para cambiar.\"\n",
    "\n",
    "### - ¿Qué significa?\n",
    "Cada clase o módulo debe encargarse de una única responsabilidad.\n",
    "Si haces muchas cosas en la misma clase (por ejemplo, procesar datos, validarlos y guardarlos), cualquier cambio en una de esas responsabilidades podría romper las demás.\n",
    "\n",
    "### -¿Por qué es importante?\n",
    "Facilita el mantenimiento.\n",
    "\n",
    "Reduce errores al hacer cambios.\n",
    "\n",
    "Mejora la legibilidad."
   ]
  },
  {
   "cell_type": "markdown",
   "id": "272b7799",
   "metadata": {},
   "source": [
    "##### Uso incorrecto"
   ]
  },
  {
   "cell_type": "code",
   "execution_count": 3,
   "id": "ffe0c3f1",
   "metadata": {},
   "outputs": [
    {
     "name": "stdout",
     "output_type": "stream",
     "text": [
      "{'username': 'john_doe', 'email': 'john@example.com'}\n",
      "Usuario john_doe guardado con éxito.\n",
      "Correo electrónico de bienvenida enviado a john@example.com.\n"
     ]
    }
   ],
   "source": [
    "# construcción de la clase User con multiples responsabilidades, violando el principio de responsabilidad única (SRP)\n",
    "# tomando como ejemplo una clase que maneja tanto la información del usuario como el envío de correos electrónicos y la persistencia de datos.\n",
    "\n",
    "class User:\n",
    "    def __init__(self, username, email):\n",
    "        self.username = username\n",
    "        self.email = email\n",
    "\n",
    "    def get_user_info(self) -> dict: # Obtiene la información del usuario ✅\n",
    "        \n",
    "        return {\"username\": self.username, \"email\": self.email}\n",
    "\n",
    "    def save(self) -> None: #  Guarda el usuario en la base de datos ❌, deberia ser una clase separada\n",
    "        # Simulación de guardar el usuario en una base de datos\n",
    "        print(f\"Usuario {self.username} guardado con éxito.\")\n",
    "\n",
    "    def send_welcome_email(self) -> None: # Envía un correo electrónico de bienvenida ❌, # deberia ser una clase separada\n",
    "        # Simulación de enviar un correo electrónico de bienvenida\n",
    "        print(f\"Correo electrónico de bienvenida enviado a {self.email}.\")\n",
    "\n",
    "# Ejemplo de uso\n",
    "if __name__ == \"__main__\":\n",
    "    user = User(\"john_doe\", \"john@example.com\")\n",
    "    user_info = user.get_user_info()\n",
    "    print(user_info)\n",
    "    user.save()\n",
    "    user.send_welcome_email()"
   ]
  },
  {
   "cell_type": "markdown",
   "id": "52e9f91c",
   "metadata": {},
   "source": [
    "### Corrección de uso de clase user"
   ]
  },
  {
   "cell_type": "code",
   "execution_count": 4,
   "id": "77b155dd",
   "metadata": {},
   "outputs": [
    {
     "name": "stdout",
     "output_type": "stream",
     "text": [
      "{'username': 'john_doe', 'email': 'john@example.com'}\n",
      "Usuario john_doe guardado con éxito.\n",
      "Correo electrónico de bienvenida enviado a john@example.com.\n"
     ]
    }
   ],
   "source": [
    "# Corrección de la clase User para cumplir con el principio de responsabilidad única (SRP)\n",
    "class User:\n",
    "    def __init__(self, username, email):\n",
    "        self.username = username\n",
    "        self.email = email\n",
    "\n",
    "    def get_user_info(self) -> dict:  # Obtiene la información del usuario ✅\n",
    "        return {\"username\": self.username, \"email\": self.email}\n",
    "    \n",
    "class UserRepository:\n",
    "    def save(self, user: User) -> None:  # Guarda el usuario en la base de datos ✅\n",
    "        # Simulación de guardar el usuario en una base de datos\n",
    "        print(f\"Usuario {user.username} guardado con éxito.\")\n",
    "\n",
    "class EmailService:\n",
    "    def send_welcome_email(self, user: User) -> None:  # Envía un correo electrónico de bienvenida ✅\n",
    "        # Simulación de enviar un correo electrónico de bienvenida\n",
    "        print(f\"Correo electrónico de bienvenida enviado a {user.email}.\")\n",
    "\n",
    "# Ejemplo de uso\n",
    "if __name__ == \"__main__\":\n",
    "    user = User(\"john_doe\", \"john@example.com\")\n",
    "    user_info = user.get_user_info()\n",
    "    print(user_info)\n",
    "    user_repository = UserRepository()\n",
    "    user_repository.save(user)\n",
    "    email_service = EmailService()\n",
    "    email_service.send_welcome_email(user)"
   ]
  }
 ],
 "metadata": {
  "kernelspec": {
   "display_name": "venv",
   "language": "python",
   "name": "python3"
  },
  "language_info": {
   "codemirror_mode": {
    "name": "ipython",
    "version": 3
   },
   "file_extension": ".py",
   "mimetype": "text/x-python",
   "name": "python",
   "nbconvert_exporter": "python",
   "pygments_lexer": "ipython3",
   "version": "3.12.0"
  }
 },
 "nbformat": 4,
 "nbformat_minor": 5
}
