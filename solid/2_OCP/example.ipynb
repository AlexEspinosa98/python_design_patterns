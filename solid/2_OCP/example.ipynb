{
 "cells": [
  {
   "cell_type": "markdown",
   "id": "1ea84357",
   "metadata": {},
   "source": [
    "# OCP – Open/Closed Principle\n",
    "\"Las clases deben estar abiertas a extensión pero cerradas a modificación.\"\n",
    "\n",
    "### ¿Qué significa?\n",
    "Puedes agregar funcionalidad sin tener que cambiar el código existente.\n",
    "Normalmente se consigue usando herencia o composición.\n",
    "\n",
    "Cambiar el código existente es malo porque ya ha sido probado y funciona. Si cambiamos el código, entonces tenemos que hacer pruebas de regresión. Por lo tanto, al agregar funcionalidad, no debe cambiar las entidades existentes, sino agregar otras nuevas mediante la composición o la herencia. Incluso con este enfoque, es posible que tenga que editar ligeramente el código antiguo para evitar errores o código pirateado. Pero se debe evitar cambiar el código anterior tanto como sea posible.\n",
    "\n",
    "### ¿Por qué es importante?\n",
    "Evita romper código viejo.\n",
    "\n",
    "Hace tu sistema extensible."
   ]
  },
  {
   "cell_type": "markdown",
   "id": "38898fa7",
   "metadata": {},
   "source": [
    "### ejemplo:\n",
    "tenemos una clase y una clase. En este programa, el personaje tiene un arma y puede realizar ataques con ella"
   ]
  },
  {
   "cell_type": "code",
   "execution_count": 2,
   "id": "16df07ca",
   "metadata": {},
   "outputs": [
    {
     "name": "stdout",
     "output_type": "stream",
     "text": [
      "Excalibur strikes: - 50 hp\n",
      "Excalibur strikes: - 50 hp\n"
     ]
    }
   ],
   "source": [
    "# uso incorrecto\n",
    "\n",
    "class Weapon:\n",
    "    def __init__(self, _type: str, name: str, damage: int):\n",
    "        self.type = _type\n",
    "        self.name = name\n",
    "        self.damage = damage\n",
    "\n",
    "    def attack(self) -> None:\n",
    "        print(f\"{self.name} strikes: - {self.damage} hp\")\n",
    "\n",
    "\n",
    "class Character:\n",
    "    def __init__(self, name: str, weapon: Weapon) -> None:\n",
    "        self.name = name\n",
    "        self.weapon = weapon\n",
    "\n",
    "    def change_weapon(self, new_weapon: Weapon) -> None:\n",
    "        self.weapon = new_weapon\n",
    "\n",
    "    def attack(self):\n",
    "        self.weapon.attack()\n",
    "\n",
    "# Ejemplo de uso\n",
    "if __name__ == \"__main__\":\n",
    "    sword = Weapon(\"Espada\", \"Excalibur\", 50)\n",
    "    character = Character(\"Guerrero\", sword)\n",
    "    character.attack()\n"
   ]
  },
  {
   "cell_type": "markdown",
   "id": "1dae08d8",
   "metadata": {},
   "source": [
    "Ahora se ingresa arco y debe cambiarse strikes por shoots para los arcos"
   ]
  },
  {
   "cell_type": "code",
   "execution_count": 5,
   "id": "93e254c2",
   "metadata": {},
   "outputs": [
    {
     "name": "stdout",
     "output_type": "stream",
     "text": [
      "Excalibur strikes: - 50 hp\n",
      "Longbow shoots: - 30 hp\n"
     ]
    }
   ],
   "source": [
    "class Weapon:\n",
    "    def __init__(self, _type: str, name: str, damage: int):\n",
    "        self.type = _type\n",
    "        self.name = name\n",
    "        self.damage = damage\n",
    "\n",
    "    def attack(self) -> None: # implementacion del método de ataque\n",
    "        # Aquí se define el comportamiento del ataque según el tipo de arma\n",
    "        # Por ejemplo, si es un arma de tipo \"striking\" o \"shooting\"\n",
    "        # Se puede usar un print para simular el ataque\n",
    "        # Esto es un ejemplo, en un caso real podría ser más complejo\n",
    "        # y podría incluir lógica adicional, como verificar si el ataque es exitoso,\n",
    "        # calcular daño adicional, etc. y por cada arma se puede definir un comportamiento diferente\n",
    "        if self.type == \"striking\":\n",
    "            print(f\"{self.name} strikes: - {self.damage} hp\")\n",
    "        elif self.type == \"shooting\":\n",
    "            print(f\"{self.name} shoots: - {self.damage} hp\")\n",
    "\n",
    "\n",
    "sword = Weapon(\"striking\", \"Excalibur\", 50)\n",
    "aria = Character(\"Aria\", sword)\n",
    "aria.attack()  # Excalibur strikes: - 50 hp\n",
    "\n",
    "bow = Weapon(\"shooting\", \"Longbow\", 30)\n",
    "aria.change_weapon(bow)\n",
    "aria.attack()  # Longbow shoots: - 30 hp\n",
    "\n",
    "\n",
    "\n"
   ]
  },
  {
   "cell_type": "markdown",
   "id": "4147192c",
   "metadata": {},
   "source": [
    "El código estructurado de esta manera es más susceptible a la expansión, parece más limpio y más profesional. Hay que tener en cuenta que si estás absolutamente seguro de que no tendrás ninguna funcionalidad adicional en el futuro, entonces es mejor ceñirse al principio KISS (Keep It Short and Simple) y no crear abstracciones adicionales. Esto solo es un ejemplo practico"
   ]
  },
  {
   "cell_type": "code",
   "execution_count": 8,
   "id": "e3dba48c",
   "metadata": {},
   "outputs": [
    {
     "name": "stdout",
     "output_type": "stream",
     "text": [
      "Needle stirkes: - 24 hp\n",
      "Thread shoots: - 30 hp\n"
     ]
    }
   ],
   "source": [
    "class Attacker:\n",
    "    \"\"\"Interface for attacking classes.\"\"\"\n",
    "    def attack(): raise NotImplementedError\n",
    "\n",
    "class Weapon(Attacker):\n",
    "    \"\"\"Defines a general structure for weapons.\"\"\"\n",
    "    def __init__(self, name, damage) -> None:\n",
    "        self.name = name\n",
    "        self.damage = damage\n",
    "\n",
    "\n",
    "class Sword(Weapon):\n",
    "    \"\"\"\n",
    "    Inherits the structure of the weapon\n",
    "    and implements the attack interface.\n",
    "    \"\"\"\n",
    "    def attack(self) -> None:\n",
    "        print(f\"{self.name} stirkes: - {self.damage} hp\")\n",
    "\n",
    "\n",
    "class Bow(Weapon):\n",
    "    \"\"\"Inherits the structure of the weapon\n",
    "    and implements the attack interface.\n",
    "    \"\"\"\n",
    "    def attack(self) -> None:\n",
    "        print(f\"{self.name} shoots: - {self.damage} hp\")\n",
    "\n",
    "\n",
    "sword = Sword(\"Needle\", 24)\n",
    "bow = Bow(\"Thread\", 30)\n",
    "aria = Character(\"Aria\", sword)\n",
    "aria.attack()\n",
    "# Output: Needle strikes: -24 hp\n",
    "\n",
    "aria.change_weapon(bow)\n",
    "aria.attack()\n",
    "# Output: Thread shoots: -30 hp"
   ]
  },
  {
   "cell_type": "markdown",
   "id": "ddaa93b5",
   "metadata": {},
   "source": []
  }
 ],
 "metadata": {
  "kernelspec": {
   "display_name": "venv",
   "language": "python",
   "name": "python3"
  },
  "language_info": {
   "codemirror_mode": {
    "name": "ipython",
    "version": 3
   },
   "file_extension": ".py",
   "mimetype": "text/x-python",
   "name": "python",
   "nbconvert_exporter": "python",
   "pygments_lexer": "ipython3",
   "version": "3.12.0"
  }
 },
 "nbformat": 4,
 "nbformat_minor": 5
}
