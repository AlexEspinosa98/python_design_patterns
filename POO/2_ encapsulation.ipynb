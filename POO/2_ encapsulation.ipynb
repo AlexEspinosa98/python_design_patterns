{
 "cells": [
  {
   "cell_type": "markdown",
   "id": "44b00359",
   "metadata": {},
   "source": [
    "# Encapsulamiento\n",
    "🎯 ¿Qué es?\n",
    "Ocultar los detalles internos de una clase y exponer sólo lo necesario.\n",
    "En Python se hace usando atributos \"privados\" (_ o __)."
   ]
  },
  {
   "cell_type": "code",
   "execution_count": 5,
   "id": "20a8037c",
   "metadata": {},
   "outputs": [
    {
     "name": "stdout",
     "output_type": "stream",
     "text": [
      "150\n",
      "Error: 'BankAccount' object has no attribute '__balance'\n",
      "150\n"
     ]
    }
   ],
   "source": [
    "class BankAccount:\n",
    "    def __init__(self, balance):\n",
    "        self.__balance = balance  # atributo privado\n",
    "\n",
    "    def deposit(self, amount):\n",
    "        self.__balance += amount\n",
    "\n",
    "    def get_balance(self):\n",
    "        return self.__balance\n",
    "\n",
    "account = BankAccount(100)\n",
    "account.deposit(50)\n",
    "print(account.get_balance())\n",
    "\n",
    "# Intentar acceso directo (no recomendado)\n",
    "try:\n",
    "    print(account.__balance)  # Esto no funcionará, ya que __balance es privado\n",
    "except AttributeError as e:\n",
    "    print(f\"Error: {e}\")\n",
    "\n",
    "# Intentar acceso directo (no recomendado)\n",
    "try:\n",
    "    print(account._BankAccount__balance)  # Esto funcionará, pero no es una buena práctica\n",
    "except AttributeError as e:\n",
    "    print(f\"Error: {e}\")"
   ]
  },
  {
   "cell_type": "code",
   "execution_count": null,
   "id": "0525f12a",
   "metadata": {},
   "outputs": [],
   "source": []
  }
 ],
 "metadata": {
  "kernelspec": {
   "display_name": "venv",
   "language": "python",
   "name": "python3"
  },
  "language_info": {
   "codemirror_mode": {
    "name": "ipython",
    "version": 3
   },
   "file_extension": ".py",
   "mimetype": "text/x-python",
   "name": "python",
   "nbconvert_exporter": "python",
   "pygments_lexer": "ipython3",
   "version": "3.12.0"
  }
 },
 "nbformat": 4,
 "nbformat_minor": 5
}
