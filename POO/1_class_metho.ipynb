{
 "cells": [
  {
   "cell_type": "markdown",
   "id": "03125eda",
   "metadata": {},
   "source": [
    "# Clases y objetos\n",
    "🎯 ¿Qué son?\n",
    "Una clase es un molde que define cómo serán los objetos.\n",
    "Un objeto es una instancia de esa clase."
   ]
  },
  {
   "cell_type": "code",
   "execution_count": 1,
   "id": "6fdd048e",
   "metadata": {},
   "outputs": [
    {
     "name": "stdout",
     "output_type": "stream",
     "text": [
      "Rex\n",
      "Rex says: Woof!\n"
     ]
    }
   ],
   "source": [
    "# Definición de clase\n",
    "class Dog:\n",
    "    def __init__(self, name, breed):\n",
    "        self.name = name\n",
    "        self.breed = breed\n",
    "\n",
    "    def bark(self):\n",
    "        print(f\"{self.name} says: Woof!\")\n",
    "\n",
    "# Crear objeto\n",
    "my_dog = Dog(\"Rex\", \"Labrador\")\n",
    "\n",
    "# Usar métodos y atributos\n",
    "print(my_dog.name)\n",
    "my_dog.bark()\n"
   ]
  }
 ],
 "metadata": {
  "kernelspec": {
   "display_name": "venv",
   "language": "python",
   "name": "python3"
  },
  "language_info": {
   "codemirror_mode": {
    "name": "ipython",
    "version": 3
   },
   "file_extension": ".py",
   "mimetype": "text/x-python",
   "name": "python",
   "nbconvert_exporter": "python",
   "pygments_lexer": "ipython3",
   "version": "3.12.0"
  }
 },
 "nbformat": 4,
 "nbformat_minor": 5
}
