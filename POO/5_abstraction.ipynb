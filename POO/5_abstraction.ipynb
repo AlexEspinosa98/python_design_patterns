{
 "cells": [
  {
   "cell_type": "markdown",
   "id": "e32274d4",
   "metadata": {},
   "source": [
    "# Abstracción\n",
    "🎯 ¿Qué es?\n",
    "Definir interfaces o clases abstractas que no se pueden instanciar, pero que obligan a las subclases a implementar ciertos métodos."
   ]
  },
  {
   "cell_type": "code",
   "execution_count": 1,
   "id": "cba2b718",
   "metadata": {},
   "outputs": [
    {
     "name": "stdout",
     "output_type": "stream",
     "text": [
      "28.274333882308138\n"
     ]
    }
   ],
   "source": [
    "from abc import ABC, abstractmethod\n",
    "\n",
    "class Shape(ABC):\n",
    "    @abstractmethod\n",
    "    def area(self):\n",
    "        pass\n",
    "\n",
    "class Circle(Shape):\n",
    "    def __init__(self, radius):\n",
    "        self.radius = radius\n",
    "\n",
    "    def area(self):\n",
    "        from math import pi\n",
    "        return pi * self.radius ** 2\n",
    "\n",
    "circle = Circle(3)\n",
    "print(circle.area())\n",
    "\n",
    "# shape = Shape()  # Esto daría error: no se puede instanciar clase abstracta\n"
   ]
  },
  {
   "cell_type": "markdown",
   "id": "c0ae366e",
   "metadata": {},
   "source": []
  }
 ],
 "metadata": {
  "kernelspec": {
   "display_name": "venv",
   "language": "python",
   "name": "python3"
  },
  "language_info": {
   "codemirror_mode": {
    "name": "ipython",
    "version": 3
   },
   "file_extension": ".py",
   "mimetype": "text/x-python",
   "name": "python",
   "nbconvert_exporter": "python",
   "pygments_lexer": "ipython3",
   "version": "3.12.0"
  }
 },
 "nbformat": 4,
 "nbformat_minor": 5
}
